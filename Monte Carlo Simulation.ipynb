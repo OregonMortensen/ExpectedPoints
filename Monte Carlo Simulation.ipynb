{
 "cells": [
  {
   "cell_type": "code",
   "execution_count": 1,
   "id": "6de1819c",
   "metadata": {},
   "outputs": [],
   "source": [
    "#Import packages\n",
    "import numpy as np"
   ]
  },
  {
   "cell_type": "markdown",
   "id": "da59e1b1",
   "metadata": {},
   "source": [
    "Data for this example is from a Superliga match that took place on December 3, 2023, between FC Copenhagen and Aarhus GF. In this particular encounter, Aarhus GF emerged as the away team victors, securing a 2–1 win. Despite the statistics favoring FC Copenhagen with a commanding xG of 3.67 to 1.72 and a shot count of 20 to 5, the actual match outcome defied expectations.\n",
    "To gain a deeper understanding, let's embark on a simulation journey. We'll simulate this match outcome 20,000 times, exploring the probabilities of an Aarhus GF victory."
   ]
  },
  {
   "cell_type": "code",
   "execution_count": 32,
   "id": "25586786",
   "metadata": {},
   "outputs": [],
   "source": [
    "#Create data\n",
    "fck = [20, 3.67] # [shots, xg]\n",
    "agf = [5, 1.72]"
   ]
  },
  {
   "cell_type": "markdown",
   "id": "ecfb0bd6",
   "metadata": {},
   "source": [
    "Lets first try a model with a binomial distribution. Here we model the number of successful events (goals) in a fixed number of independent trials (shots)."
   ]
  },
  {
   "cell_type": "code",
   "execution_count": 6,
   "id": "757b440f",
   "metadata": {},
   "outputs": [],
   "source": [
    "def sim_game(h,a): #home and away team\n",
    "    h_xgps = h[1]/h[0] # xG/shots\n",
    "    a_xgps = a[1]/a[0] # xG/shots\n",
    "    h_xg = np.random.binomial(h[0], h_xgps)\n",
    "    a_xg = np.random.binomial(a[0], a_xgps)\n",
    "    if h_xg > a_xg: # if home team has more goals then away team\n",
    "        h_win = 1\n",
    "        draw = 0\n",
    "        a_win = 0\n",
    "    elif h_xg < a_xg: # if away team has more expected goals then home team\n",
    "        h_win = 0\n",
    "        draw = 0\n",
    "        a_win = 1\n",
    "    else: # if match draw\n",
    "        h_win = 0\n",
    "        draw = 1\n",
    "        a_win = 0\n",
    "    return [h_win, draw, a_win] "
   ]
  },
  {
   "cell_type": "code",
   "execution_count": 4,
   "id": "96342e4f",
   "metadata": {},
   "outputs": [],
   "source": [
    "def probabilities(h,a, sims): # calculating the results from each sim and getting the probabilities\n",
    "    h_results = []\n",
    "    d_results = []\n",
    "    a_results = []\n",
    "    for i in np.arange(sims):\n",
    "        sim_results = sim_game(h,a)\n",
    "        h_results.append(sim_results[0])\n",
    "        d_results.append(sim_results[1])\n",
    "        a_results.append(sim_results[2])\n",
    "    h_win_prob = (sum(h_results)/sims)\n",
    "    d_prob = (sum(d_results)/sims)\n",
    "    a_win_prob = (sum(a_results)/sims)\n",
    "    return [h_win_prob, d_prob, a_win_prob]"
   ]
  },
  {
   "cell_type": "code",
   "execution_count": 43,
   "id": "22d31b61",
   "metadata": {},
   "outputs": [
    {
     "data": {
      "text/plain": [
       "[0.75465, 0.13515, 0.1102]"
      ]
     },
     "execution_count": 43,
     "metadata": {},
     "output_type": "execute_result"
    }
   ],
   "source": [
    "# calculate the probabilities for the three possible outcomes\n",
    "probs = probabilities(fck, agf, 20000) # with 20,000 simulations\n",
    "probs"
   ]
  },
  {
   "cell_type": "markdown",
   "id": "7dfc8d29",
   "metadata": {},
   "source": [
    "The outcomes of our simulations reveal a remarkable 76% likelihood of FC Copenhagen (FCK) securing victory, contrasting with a modest 11% chance for Aarhus GF (AGF).\n",
    "\n",
    "Lets see the expected points for FC Copenhagen in this match. As this is calculated as the probability for victory * 3 points + probability for draw * 1 points."
   ]
  },
  {
   "cell_type": "code",
   "execution_count": 34,
   "id": "d4c14b95",
   "metadata": {},
   "outputs": [
    {
     "data": {
      "text/plain": [
       "2.4141000000000004"
      ]
     },
     "execution_count": 34,
     "metadata": {},
     "output_type": "execute_result"
    }
   ],
   "source": [
    "xP_fck = probs[0]*3+probs[1]*1\n",
    "xP_fck"
   ]
  },
  {
   "cell_type": "markdown",
   "id": "cb575efd",
   "metadata": {},
   "source": [
    "And the expected points for AGF."
   ]
  },
  {
   "cell_type": "code",
   "execution_count": 35,
   "id": "2bbcef45",
   "metadata": {},
   "outputs": [
    {
     "data": {
      "text/plain": [
       "0.45165"
      ]
     },
     "execution_count": 35,
     "metadata": {},
     "output_type": "execute_result"
    }
   ],
   "source": [
    "xP_agf = probs[2]*3+probs[1]*1\n",
    "xP_agf"
   ]
  },
  {
   "cell_type": "markdown",
   "id": "75b0be20",
   "metadata": {},
   "source": [
    "The following is the same, except the binomial is swapped with a poisson distribution."
   ]
  },
  {
   "cell_type": "code",
   "execution_count": 47,
   "id": "89a1711b",
   "metadata": {},
   "outputs": [],
   "source": [
    "def sim_game_pois(h,a):\n",
    "    h_xg = np.random.poisson(h[1])\n",
    "    a_xg = np.random.poisson(a[1])\n",
    "    if h_xg > a_xg: # if home team has more goals then away team\n",
    "        h_win = 1\n",
    "        draw = 0\n",
    "        a_win = 0\n",
    "    elif h_xg < a_xg: # if away team has more expected goals then home team\n",
    "        h_win = 0\n",
    "        draw = 0\n",
    "        a_win = 1\n",
    "    else: # if match draw\n",
    "        h_win = 0\n",
    "        draw = 1\n",
    "        a_win = 0\n",
    "    return [h_win, draw, a_win]"
   ]
  },
  {
   "cell_type": "code",
   "execution_count": 46,
   "id": "1d6237fe",
   "metadata": {},
   "outputs": [],
   "source": [
    "def probabilities_pois(h,a, sims): # calculating the results from each sim and getting the probabilities\n",
    "    h_results = []\n",
    "    d_results = []\n",
    "    a_results = []\n",
    "    for i in np.arange(sims):\n",
    "        sim_results = sim_game_pois(h,a)\n",
    "        h_results.append(sim_results[0])\n",
    "        d_results.append(sim_results[1])\n",
    "        a_results.append(sim_results[2])\n",
    "    h_win_prob = (sum(h_results)/sims)\n",
    "    d_prob = (sum(d_results)/sims)\n",
    "    a_win_prob = (sum(a_results)/sims)\n",
    "    return [h_win_prob, d_prob, a_win_prob]"
   ]
  },
  {
   "cell_type": "code",
   "execution_count": 45,
   "id": "6ed9009e",
   "metadata": {},
   "outputs": [
    {
     "data": {
      "text/plain": [
       "[0.73185, 0.12325, 0.1449]"
      ]
     },
     "execution_count": 45,
     "metadata": {},
     "output_type": "execute_result"
    }
   ],
   "source": [
    "Probs_pois = probabilities_pois(fck, agf, 20000)\n",
    "Probs_pois"
   ]
  }
 ],
 "metadata": {
  "kernelspec": {
   "display_name": "Python 3 (ipykernel)",
   "language": "python",
   "name": "python3"
  },
  "language_info": {
   "codemirror_mode": {
    "name": "ipython",
    "version": 3
   },
   "file_extension": ".py",
   "mimetype": "text/x-python",
   "name": "python",
   "nbconvert_exporter": "python",
   "pygments_lexer": "ipython3",
   "version": "3.11.5"
  }
 },
 "nbformat": 4,
 "nbformat_minor": 5
}
