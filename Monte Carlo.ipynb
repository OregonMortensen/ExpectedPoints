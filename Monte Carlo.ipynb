{
 "cells": [
  {
   "cell_type": "code",
   "execution_count": 20,
   "id": "6de1819c",
   "metadata": {},
   "outputs": [],
   "source": [
    "import numpy as np"
   ]
  },
  {
   "cell_type": "code",
   "execution_count": 58,
   "id": "25586786",
   "metadata": {},
   "outputs": [],
   "source": [
    "mci = [21, 2.31]\n",
    "tot = [6, 1.00]"
   ]
  },
  {
   "cell_type": "code",
   "execution_count": 59,
   "id": "757b440f",
   "metadata": {},
   "outputs": [],
   "source": [
    "def sim_game(h,a):\n",
    "    h_xgps = h[1]/h[0] # xG/shots\n",
    "    a_xgps = a[1]/a[0] # xG/shots\n",
    "    h_xg = np.random.binomial(h[0], h_xgps)\n",
    "    a_xg = np.random.binomial(a[0], a_xgps)\n",
    "    if h_xg > a_xg: # if home team has more goals then away team\n",
    "        h_win = 1\n",
    "        draw = 0\n",
    "        a_win = 0\n",
    "    elif h_xg < a_xg: # if away team has more expected goals then home team\n",
    "        h_win = 0\n",
    "        draw = 0\n",
    "        a_win = 1\n",
    "    else: # if match draw\n",
    "        h_win = 0\n",
    "        draw = 1\n",
    "        a_win = 0\n",
    "    return [h_win, draw, a_win]"
   ]
  },
  {
   "cell_type": "code",
   "execution_count": 60,
   "id": "96342e4f",
   "metadata": {},
   "outputs": [],
   "source": [
    "def probabilities(h,a, sims): # calculating the results from each sim and getting the probabilities\n",
    "    h_results = []\n",
    "    d_results = []\n",
    "    a_results = []\n",
    "    for i in np.arange(sims):\n",
    "        sim_results = sim_game(h,a)\n",
    "        h_results.append(sim_results[0])\n",
    "        d_results.append(sim_results[1])\n",
    "        a_results.append(sim_results[2])\n",
    "    h_win_prob = (sum(h_results)/sims)\n",
    "    d_prob = (sum(d_results)/sims)\n",
    "    a_win_prob = (sum(a_results)/sims)\n",
    "    return [h_win_prob, d_prob, a_win_prob]"
   ]
  },
  {
   "cell_type": "code",
   "execution_count": 61,
   "id": "22d31b61",
   "metadata": {},
   "outputs": [
    {
     "data": {
      "text/plain": [
       "2.20805"
      ]
     },
     "execution_count": 61,
     "metadata": {},
     "output_type": "execute_result"
    }
   ],
   "source": [
    "d = probabilities(mci, tot, 20000)\n",
    "d[0] * 3 + d[1]"
   ]
  },
  {
   "cell_type": "code",
   "execution_count": 62,
   "id": "d4c14b95",
   "metadata": {},
   "outputs": [
    {
     "data": {
      "text/plain": [
       "[0.67345, 0.1877, 0.13885]"
      ]
     },
     "execution_count": 62,
     "metadata": {},
     "output_type": "execute_result"
    }
   ],
   "source": [
    "d"
   ]
  },
  {
   "cell_type": "code",
   "execution_count": null,
   "id": "2bbcef45",
   "metadata": {},
   "outputs": [],
   "source": []
  },
  {
   "cell_type": "code",
   "execution_count": 63,
   "id": "89a1711b",
   "metadata": {},
   "outputs": [],
   "source": [
    "def sim_game_pois(h,a):\n",
    "    h_xgps = h[1]/h[0] # xG/shots\n",
    "    a_xgps = a[1]/a[0] # xG/shots\n",
    "    h_xg = np.random.poisson(h[1])\n",
    "    a_xg = np.random.poisson(a[1])\n",
    "    if h_xg > a_xg: # if home team has more goals then away team\n",
    "        h_win = 1\n",
    "        draw = 0\n",
    "        a_win = 0\n",
    "    elif h_xg < a_xg: # if away team has more expected goals then home team\n",
    "        h_win = 0\n",
    "        draw = 0\n",
    "        a_win = 1\n",
    "    else: # if match draw\n",
    "        h_win = 0\n",
    "        draw = 1\n",
    "        a_win = 0\n",
    "    return [h_win, draw, a_win]"
   ]
  },
  {
   "cell_type": "code",
   "execution_count": 64,
   "id": "1d6237fe",
   "metadata": {},
   "outputs": [],
   "source": [
    "def probabilities_pois(h,a, sims): # calculating the results from each sim and getting the probabilities\n",
    "    h_results = []\n",
    "    d_results = []\n",
    "    a_results = []\n",
    "    for i in np.arange(sims):\n",
    "        sim_results = sim_game_pois(h,a)\n",
    "        h_results.append(sim_results[0])\n",
    "        d_results.append(sim_results[1])\n",
    "        a_results.append(sim_results[2])\n",
    "    h_win_prob = (sum(h_results)/sims)\n",
    "    d_prob = (sum(d_results)/sims)\n",
    "    a_win_prob = (sum(a_results)/sims)\n",
    "    return [h_win_prob, d_prob, a_win_prob]"
   ]
  },
  {
   "cell_type": "code",
   "execution_count": 65,
   "id": "6ed9009e",
   "metadata": {},
   "outputs": [
    {
     "data": {
      "text/plain": [
       "2.18675"
      ]
     },
     "execution_count": 65,
     "metadata": {},
     "output_type": "execute_result"
    }
   ],
   "source": [
    "d = probabilities_pois(mci, tot, 20000)\n",
    "d[0] * 3 + d[1]"
   ]
  }
 ],
 "metadata": {
  "kernelspec": {
   "display_name": "Python 3 (ipykernel)",
   "language": "python",
   "name": "python3"
  },
  "language_info": {
   "codemirror_mode": {
    "name": "ipython",
    "version": 3
   },
   "file_extension": ".py",
   "mimetype": "text/x-python",
   "name": "python",
   "nbconvert_exporter": "python",
   "pygments_lexer": "ipython3",
   "version": "3.11.5"
  }
 },
 "nbformat": 4,
 "nbformat_minor": 5
}
